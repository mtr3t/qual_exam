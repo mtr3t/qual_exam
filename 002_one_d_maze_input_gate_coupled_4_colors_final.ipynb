{
 "cells": [
  {
   "cell_type": "code",
   "execution_count": 1,
   "metadata": {
    "colab": {
     "base_uri": "https://localhost:8080/",
     "height": 34
    },
    "colab_type": "code",
    "executionInfo": {
     "elapsed": 2587,
     "status": "ok",
     "timestamp": 1586576947735,
     "user": {
      "displayName": "Matthew Radice",
      "photoUrl": "",
      "userId": "15112456304610698323"
     },
     "user_tz": 300
    },
    "id": "-rc4dLvdREQM",
    "outputId": "2211479d-21aa-420f-f5ab-e0d852950cfc"
   },
   "outputs": [
    {
     "name": "stderr",
     "output_type": "stream",
     "text": [
      "Using TensorFlow backend.\n"
     ]
    }
   ],
   "source": [
    "import keras\n",
    "import hrr as hrr\n",
    "import numpy as np\n",
    "import matplotlib.pyplot as plt"
   ]
  },
  {
   "cell_type": "code",
   "execution_count": 2,
   "metadata": {
    "colab": {},
    "colab_type": "code",
    "id": "-YaRXkIoSZAI"
   },
   "outputs": [],
   "source": [
    "# goal state:\n",
    "bias = 1.0\n",
    "reward = 1.0\n",
    "gamma = 0.9\n",
    "alpha = 0.01\n",
    "lambd = 0.0\n",
    "epsilon = 0.1\n",
    "states = 20\n",
    "episodes = 12000\n",
    "non_reward = 0\n",
    "hrr_size = 2048\n",
    "non_goal_states = 0\n",
    "actions = ['l', 'r']\n",
    "colors = ['red', 'green', 'blue', 'purple']\n",
    "gates = ['open', 'close']\n",
    "sub_optimal_steps = []"
   ]
  },
  {
   "cell_type": "code",
   "execution_count": 3,
   "metadata": {
    "colab": {},
    "colab_type": "code",
    "id": "uq0Li9kqSiCQ"
   },
   "outputs": [],
   "source": [
    "memory = hrr.LTM(hrr_size, True)"
   ]
  },
  {
   "cell_type": "code",
   "execution_count": 4,
   "metadata": {
    "colab": {},
    "colab_type": "code",
    "id": "1TLQMHYvWaRi"
   },
   "outputs": [],
   "source": [
    "def encode(s, a, g, signal, w_m):\n",
    "    string = 'action_' + str(a) + \"*\" + \\\n",
    "             'gate_'   + str(g) + \"*\" + \\\n",
    "             'state_'  + str(s) + \"*\" + \\\n",
    "             'signal_' + str(signal) + \"*\" + \\\n",
    "             'w_m_' + str(w_m) \n",
    "    encoded = np.array([memory.encode(string)])\n",
    "    return(encoded)\n",
    "\n",
    "def q(state, signal, w_m):\n",
    "    max_value = 0\n",
    "    for a in actions:\n",
    "        for g in gates:\n",
    "            hrr = encode(state, a, g, signal, w_m)\n",
    "            value = model.predict(hrr)[0,0] + bias\n",
    "            if value > max_value:\n",
    "                max_value = value\n",
    "                max_hrr = hrr\n",
    "                max_a = a\n",
    "                gate = g\n",
    "    return  max_value, max_hrr, max_a, gate\n",
    "\n",
    "def random_q(state, signal, w_m):\n",
    "    a = np.random.choice(actions)\n",
    "    g = np.random.choice(gates)\n",
    "    hrr = encode(state, a, g, signal, w_m)\n",
    "    value = model.predict(hrr)[0,0] + bias\n",
    "    return value, hrr, a, g"
   ]
  },
  {
   "cell_type": "code",
   "execution_count": 5,
   "metadata": {
    "colab": {},
    "colab_type": "code",
    "id": "i9y0BQhjWP9_"
   },
   "outputs": [
    {
     "name": "stdout",
     "output_type": "stream",
     "text": [
      "Model: \"sequential_1\"\n",
      "_________________________________________________________________\n",
      "Layer (type)                 Output Shape              Param #   \n",
      "=================================================================\n",
      "dense_1 (Dense)              (None, 1)                 2048      \n",
      "=================================================================\n",
      "Total params: 2,048\n",
      "Trainable params: 2,048\n",
      "Non-trainable params: 0\n",
      "_________________________________________________________________\n"
     ]
    }
   ],
   "source": [
    "model = keras.models.Sequential()\n",
    "model.add(keras.layers.Dense(1,input_shape=[hrr_size],use_bias=False))\n",
    "model.compile(loss=keras.losses.mse, optimizer=keras.optimizers.SGD(learning_rate=alpha))\n",
    "model.summary()"
   ]
  },
  {
   "cell_type": "code",
   "execution_count": 6,
   "metadata": {},
   "outputs": [
    {
     "name": "stdout",
     "output_type": "stream",
     "text": [
      "on  1000\n",
      "on  2000\n",
      "on  3000\n",
      "epsilon changed to: 0.05\n",
      "on  4000\n",
      "on  5000\n",
      "on  6000\n",
      "epsilon changed to: 0.025\n",
      "on  7000\n",
      "on  8000\n",
      "on  9000\n",
      "on  10000\n",
      "on  11000\n",
      "on  12000\n"
     ]
    }
   ],
   "source": [
    "for episode in range(episodes):\n",
    "    if (episode+1) % 1000 == 0:\n",
    "        print(\"on \", episode+1)\n",
    "        \n",
    "    if episode == int(episodes/4):\n",
    "        epsilon = epsilon/2\n",
    "        print('epsilon changed to:', epsilon)\n",
    "        \n",
    "    if episode == int(episodes/4 * 2):\n",
    "        epsilon = epsilon/2\n",
    "        print('epsilon changed to:', epsilon)\n",
    "        \n",
    "    if episode == int(episodes/2 * 3):\n",
    "        epsilon = epsilon/2\n",
    "        print('epsilon changed to:', epsilon)\n",
    "        \n",
    "#     if episode == int(episodes/4 * 3):\n",
    "#         epsilon = 0\n",
    "#         print('epsilon changed to:', epsilon)\n",
    "        \n",
    "    current_state = np.random.choice(states)\n",
    "    current_signal = np.random.choice(colors)\n",
    "    \n",
    "    if current_signal == 'red':\n",
    "            goal_state = 2\n",
    "    elif current_signal == 'green':\n",
    "        goal_state = 7\n",
    "    elif current_signal == 'purple':\n",
    "        goal_state = 12\n",
    "    else:\n",
    "        goal_state = 17\n",
    "    \n",
    "    if goal_state < current_state:\n",
    "        optimal_steps_1 = abs(goal_state - current_state)\n",
    "        optimal_steps_2 = states - current_state + goal_state\n",
    "    else:\n",
    "        optimal_steps_1 = abs(goal_state - current_state)\n",
    "        optimal_steps_2 = states - goal_state + current_state\n",
    "    \n",
    "    if optimal_steps_1 < optimal_steps_2:\n",
    "        optimal_steps = optimal_steps_1\n",
    "    else:\n",
    "        optimal_steps = optimal_steps_2\n",
    "    \n",
    "    current_w_m = ''\n",
    "    \n",
    "    for step in range(states):\n",
    "        \n",
    "        if current_state == goal_state:\n",
    "            break\n",
    "        \n",
    "        if np.random.random() < epsilon:\n",
    "            current_value, \\\n",
    "            current_hrr, \\\n",
    "            current_action, \\\n",
    "            gate_action = random_q(current_state, current_signal, current_w_m)\n",
    "        else:\n",
    "            current_value, \\\n",
    "            current_hrr, \\\n",
    "            current_action, \\\n",
    "            gate_action = q(current_state, current_signal, current_w_m)\n",
    "        \n",
    "        previous_state = current_state\n",
    "        \n",
    "        previous_value = current_value\n",
    "        previous_hrr = current_hrr\n",
    "        previous_action = current_action\n",
    "        previous_gate_action = gate_action\n",
    "        \n",
    "        # --------------------------------------------------\n",
    "        \n",
    "        if gate_action == 'open':\n",
    "            current_w_m = current_signal\n",
    "        \n",
    "        current_signal = ''\n",
    "        \n",
    "        if (current_action == \"l\"):\n",
    "            current_state = (current_state-1)%states\n",
    "        else:\n",
    "            current_state = (current_state+1)%states\n",
    "            \n",
    "        if current_state == goal_state:\n",
    "            target = reward\n",
    "        else:\n",
    "            current_value, _, _, _ = q(current_state, current_signal, current_w_m)\n",
    "            target = non_goal_states + gamma * current_value\n",
    "\n",
    "        model.fit(previous_hrr, [target-bias], verbose=0)\n",
    "    \n",
    "#     if step > 0:\n",
    "#         steps = step + 1\n",
    "#     else:\n",
    "#         steps = 0\n",
    "    sub_optimal_steps.append(abs(step-optimal_steps))\n",
    "#     print('sub optimal steps taken =', abs(step-optimal_steps))"
   ]
  },
  {
   "cell_type": "code",
   "execution_count": 7,
   "metadata": {},
   "outputs": [],
   "source": [
    "sub_optimal_average = []\n",
    "\n",
    "for i in range(int(len(sub_optimal_steps)/100)):\n",
    "    sub_optimal_average.append(sum(sub_optimal_steps[i*100:i*100+100])/len(sub_optimal_steps[i*100:i*100+100]))"
   ]
  },
  {
   "cell_type": "code",
   "execution_count": 8,
   "metadata": {},
   "outputs": [
    {
     "data": {
      "image/png": "[encoded data removed]",
      "text/plain": [
       "<Figure size 432x288 with 1 Axes>"
      ]
     },
     "metadata": {
      "needs_background": "light"
     },
     "output_type": "display_data"
    }
   ],
   "source": [
    "plt.plot(sub_optimal_average)\n",
    "plt.grid(True)\n",
    "plt.show()"
   ]
  },
  {
   "cell_type": "code",
   "execution_count": 9,
   "metadata": {},
   "outputs": [
    {
     "data": {
      "image/png": "[encoded data removed]",
      "text/plain": [
       "<Figure size 432x288 with 1 Axes>"
      ]
     },
     "metadata": {
      "needs_background": "light"
     },
     "output_type": "display_data"
    }
   ],
   "source": [
    "plt.plot(sub_optimal_average)\n",
    "plt.grid(True)\n",
    "plt.xlim(100,120)\n",
    "plt.ylim(0, 2)\n",
    "plt.show()"
   ]
  },
  {
   "cell_type": "code",
   "execution_count": 11,
   "metadata": {},
   "outputs": [
    {
     "name": "stdout",
     "output_type": "stream",
     "text": [
      "size of dictionary  3636\n"
     ]
    }
   ],
   "source": [
    "print('size of dictionary ', len(memory.store))"
   ]
  },
  {
   "cell_type": "code",
   "execution_count": null,
   "metadata": {},
   "outputs": [],
   "source": []
  },
  {
   "cell_type": "code",
   "execution_count": null,
   "metadata": {},
   "outputs": [],
   "source": [
    "# s, a, g, signal, w_m"
   ]
  },
  {
   "cell_type": "code",
   "execution_count": null,
   "metadata": {},
   "outputs": [],
   "source": [
    "# red"
   ]
  },
  {
   "cell_type": "code",
   "execution_count": null,
   "metadata": {},
   "outputs": [],
   "source": [
    "# all states, two actions l/r, gate closed, signal off, w_m red\n",
    "data = []\n",
    "for a in actions:\n",
    "#     for g in gates:\n",
    "    data += [model.predict(encode(s, a, 'close', '', 'red'))+bias for s in range(states)]\n",
    "data = np.reshape(data, [2,states]).T\n",
    "plt.plot(data)\n",
    "plt.grid(True)\n",
    "plt.legend(('left', 'right'))\n",
    "plt.show()"
   ]
  },
  {
   "cell_type": "code",
   "execution_count": null,
   "metadata": {},
   "outputs": [],
   "source": [
    "# all states, two actions l/r, gate open, signal off, w_m red\n",
    "data = []\n",
    "for a in actions:\n",
    "#     for g in gates:\n",
    "    data += [model.predict(encode(s, a, 'open', '', 'red'))+bias for s in range(states)]\n",
    "data = np.reshape(data, [2,states]).T\n",
    "plt.plot(data)\n",
    "plt.grid(True)\n",
    "plt.legend(('left', 'right'))\n",
    "plt.show()"
   ]
  },
  {
   "cell_type": "code",
   "execution_count": null,
   "metadata": {},
   "outputs": [],
   "source": [
    "# all states, two actions, gate closed, signal on red, no w_m\n",
    "data = []\n",
    "for a in actions:\n",
    "#     for g in gates:\n",
    "    data += [model.predict(encode(s, a, 'closed', 'red', ''))+bias for s in range(states)]\n",
    "data = np.reshape(data, [2,states]).T\n",
    "plt.plot(data)\n",
    "plt.grid(True)\n",
    "plt.legend(('left', 'right'))\n",
    "plt.show()"
   ]
  },
  {
   "cell_type": "code",
   "execution_count": null,
   "metadata": {},
   "outputs": [],
   "source": [
    "# all states, two actions, gate open, signal on red, no w_m\n",
    "data = []\n",
    "for a in actions:\n",
    "#     for g in gates:\n",
    "    data += [model.predict(encode(s, a, 'open', 'red', ''))+bias for s in range(states)]\n",
    "data = np.reshape(data, [2,states]).T\n",
    "plt.plot(data)\n",
    "plt.grid(True)\n",
    "plt.legend(('left', 'right'))\n",
    "plt.show()"
   ]
  },
  {
   "cell_type": "code",
   "execution_count": null,
   "metadata": {},
   "outputs": [],
   "source": []
  },
  {
   "cell_type": "code",
   "execution_count": null,
   "metadata": {},
   "outputs": [],
   "source": []
  },
  {
   "cell_type": "code",
   "execution_count": null,
   "metadata": {},
   "outputs": [],
   "source": [
    "# green"
   ]
  },
  {
   "cell_type": "code",
   "execution_count": null,
   "metadata": {},
   "outputs": [],
   "source": [
    "data = []\n",
    "for a in actions:\n",
    "#     for g in gates:\n",
    "    data += [model.predict(encode(s, a, 'close', '', 'green'))+bias for s in range(states)]\n",
    "data = np.reshape(data, [2,states]).T\n",
    "plt.plot(data)\n",
    "plt.grid(True)\n",
    "plt.legend(('left', 'right'))\n",
    "plt.show()"
   ]
  },
  {
   "cell_type": "code",
   "execution_count": null,
   "metadata": {},
   "outputs": [],
   "source": [
    "data = []\n",
    "for a in actions:\n",
    "#     for g in gates:\n",
    "    data += [model.predict(encode(s, a, 'open', '', 'green'))+bias for s in range(states)]\n",
    "data = np.reshape(data, [2,states]).T\n",
    "plt.plot(data)\n",
    "plt.grid(True)\n",
    "plt.legend(('left', 'right'))\n",
    "plt.show()"
   ]
  },
  {
   "cell_type": "code",
   "execution_count": null,
   "metadata": {},
   "outputs": [],
   "source": [
    "# all states, two actions, gate closed, signal on green, no w_m\n",
    "data = []\n",
    "for a in actions:\n",
    "#     for g in gates:\n",
    "    data += [model.predict(encode(s, a, 'closed', 'green', ''))+bias for s in range(states)]\n",
    "data = np.reshape(data, [2,states]).T\n",
    "plt.plot(data)\n",
    "plt.grid(True)\n",
    "plt.legend(('left', 'right'))\n",
    "plt.show()"
   ]
  },
  {
   "cell_type": "code",
   "execution_count": null,
   "metadata": {},
   "outputs": [],
   "source": [
    "# all states, two actions, gate open, signal on green, no w_m\n",
    "data = []\n",
    "for a in actions:\n",
    "#     for g in gates:\n",
    "    data += [model.predict(encode(s, a, 'open', 'green', ''))+bias for s in range(states)]\n",
    "data = np.reshape(data, [2,states]).T\n",
    "plt.plot(data)\n",
    "plt.grid(True)\n",
    "plt.legend(('left', 'right'))\n",
    "plt.show()"
   ]
  },
  {
   "cell_type": "code",
   "execution_count": null,
   "metadata": {},
   "outputs": [],
   "source": []
  },
  {
   "cell_type": "code",
   "execution_count": null,
   "metadata": {},
   "outputs": [],
   "source": [
    "\n",
    "data = []\n",
    "for a in actions:\n",
    "#     for g in gates:\n",
    "    data += [model.predict(encode(s, a, 'open', '', ''))+bias for s in range(states)]\n",
    "data = np.reshape(data, [2,states]).T\n",
    "plt.plot(data)\n",
    "plt.grid(True)\n",
    "plt.grid(True)\n",
    "plt.legend(('left', 'right'))\n",
    "plt.show()"
   ]
  },
  {
   "cell_type": "code",
   "execution_count": null,
   "metadata": {},
   "outputs": [],
   "source": [
    "\n",
    "data = []\n",
    "for a in actions:\n",
    "#     for g in gates:\n",
    "    data += [model.predict(encode(s, a, 'closed', '', ''))+bias for s in range(states)]\n",
    "data = np.reshape(data, [2,states]).T\n",
    "plt.plot(data)\n",
    "plt.grid(True)\n",
    "plt.legend(('left', 'right'))\n",
    "plt.show()"
   ]
  },
  {
   "cell_type": "code",
   "execution_count": null,
   "metadata": {},
   "outputs": [],
   "source": []
  },
  {
   "cell_type": "code",
   "execution_count": null,
   "metadata": {},
   "outputs": [],
   "source": [
    "### these should never occur"
   ]
  },
  {
   "cell_type": "code",
   "execution_count": null,
   "metadata": {},
   "outputs": [],
   "source": [
    "# should never occur\n",
    "data = []\n",
    "for a in actions:\n",
    "#     for g in gates:\n",
    "    data += [model.predict(encode(s, a, 'open', 'red', 'red'))+bias for s in range(states)]\n",
    "data = np.reshape(data, [2,states]).T\n",
    "plt.plot(data)\n",
    "plt.grid(True)\n",
    "plt.legend(('left', 'right'))\n",
    "plt.show()"
   ]
  },
  {
   "cell_type": "code",
   "execution_count": null,
   "metadata": {},
   "outputs": [],
   "source": [
    "# should neve occur\n",
    "data = []\n",
    "for a in actions:\n",
    "#     for g in gates:\n",
    "    data += [model.predict(encode(s, a, 'closed', 'red', 'red'))+bias for s in range(states)]\n",
    "data = np.reshape(data, [2,states]).T\n",
    "plt.plot(data)\n",
    "plt.grid(True)\n",
    "plt.legend(('left', 'right'))\n",
    "plt.show()"
   ]
  },
  {
   "cell_type": "code",
   "execution_count": null,
   "metadata": {},
   "outputs": [],
   "source": [
    "# should never occur\n",
    "data = []\n",
    "for a in actions:\n",
    "#     for g in gates:\n",
    "    data += [model.predict(encode(s, a, 'open', 'green', 'green'))+bias for s in range(states)]\n",
    "data = np.reshape(data, [2,states]).T\n",
    "plt.plot(data)\n",
    "plt.grid(True)\n",
    "plt.legend(('left', 'right'))\n",
    "plt.show()"
   ]
  },
  {
   "cell_type": "code",
   "execution_count": null,
   "metadata": {},
   "outputs": [],
   "source": [
    "# should never occur\n",
    "data = []\n",
    "for a in actions:\n",
    "#     for g in gates:\n",
    "    data += [model.predict(encode(s, a, 'closed', 'green', 'green'))+bias for s in range(states)]\n",
    "data = np.reshape(data, [2,states]).T\n",
    "plt.plot(data)\n",
    "plt.grid(True)\n",
    "plt.legend(('left', 'right'))\n",
    "plt.show()"
   ]
  },
  {
   "cell_type": "code",
   "execution_count": null,
   "metadata": {},
   "outputs": [],
   "source": []
  },
  {
   "cell_type": "code",
   "execution_count": null,
   "metadata": {},
   "outputs": [],
   "source": []
  },
  {
   "cell_type": "code",
   "execution_count": null,
   "metadata": {},
   "outputs": [],
   "source": [
    "# data = []\n",
    "# for a in actions:\n",
    "#     for g in gates:\n",
    "#         data += [model.predict(encode(s, a, g, 'red', ''))+bias for s in range(states)]\n",
    "# data = np.reshape(data, [4,states]).T\n",
    "# plt.plot(data)\n",
    "# plt.show()"
   ]
  },
  {
   "cell_type": "code",
   "execution_count": null,
   "metadata": {},
   "outputs": [],
   "source": []
  },
  {
   "cell_type": "code",
   "execution_count": null,
   "metadata": {},
   "outputs": [],
   "source": []
  },
  {
   "cell_type": "code",
   "execution_count": null,
   "metadata": {},
   "outputs": [],
   "source": []
  },
  {
   "cell_type": "code",
   "execution_count": null,
   "metadata": {},
   "outputs": [],
   "source": []
  },
  {
   "cell_type": "code",
   "execution_count": null,
   "metadata": {},
   "outputs": [],
   "source": []
  },
  {
   "cell_type": "code",
   "execution_count": null,
   "metadata": {},
   "outputs": [],
   "source": []
  },
  {
   "cell_type": "code",
   "execution_count": null,
   "metadata": {},
   "outputs": [],
   "source": []
  },
  {
   "cell_type": "code",
   "execution_count": null,
   "metadata": {},
   "outputs": [],
   "source": []
  },
  {
   "cell_type": "code",
   "execution_count": null,
   "metadata": {},
   "outputs": [],
   "source": []
  },
  {
   "cell_type": "code",
   "execution_count": null,
   "metadata": {},
   "outputs": [],
   "source": []
  },
  {
   "cell_type": "code",
   "execution_count": null,
   "metadata": {},
   "outputs": [],
   "source": []
  },
  {
   "cell_type": "code",
   "execution_count": null,
   "metadata": {},
   "outputs": [],
   "source": []
  },
  {
   "cell_type": "code",
   "execution_count": null,
   "metadata": {},
   "outputs": [],
   "source": []
  },
  {
   "cell_type": "code",
   "execution_count": null,
   "metadata": {},
   "outputs": [],
   "source": []
  }
 ],
 "metadata": {
  "colab": {
   "authorship_tag": "ABX9TyMrPBV6Y+WhOTKcQkzbFgMh",
   "collapsed_sections": [],
   "name": "onedeemaze.ipynb",
   "provenance": []
  },
  "kernelspec": {
   "display_name": "Python 3",
   "language": "python",
   "name": "python3"
  },
  "language_info": {
   "codemirror_mode": {
    "name": "ipython",
    "version": 3
   },
   "file_extension": ".py",
   "mimetype": "text/x-python",
   "name": "python",
   "nbconvert_exporter": "python",
   "pygments_lexer": "ipython3",
   "version": "3.7.7"
  }
 },
 "nbformat": 4,
 "nbformat_minor": 1
}
